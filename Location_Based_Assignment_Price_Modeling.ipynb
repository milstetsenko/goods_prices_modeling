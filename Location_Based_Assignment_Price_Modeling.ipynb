{
  "nbformat": 4,
  "nbformat_minor": 0,
  "metadata": {
    "colab": {
      "name": "Location Based Assignment: Price Modeling.ipynb",
      "provenance": []
    },
    "kernelspec": {
      "name": "python3",
      "display_name": "Python 3"
    }
  },
  "cells": [
    {
      "cell_type": "code",
      "metadata": {
        "id": "A_g--wTc_lzw"
      },
      "source": [
        "import pandas as pd\n",
        "import pystan\n",
        "from scipy import stats\n",
        "import numpy as np\n",
        "import re\n",
        "import matplotlib.pyplot as plt\n",
        "import seaborn as sns\n"
      ],
      "execution_count": 1,
      "outputs": []
    },
    {
      "cell_type": "code",
      "metadata": {
        "id": "swWtOqix6LLK"
      },
      "source": [
        "data = pd.read_csv('https://docs.google.com/spreadsheets/d/e/2PACX-1vQWu3naYNenwRQ6Fvb1Lvc3UgSqvEbzwFr7uOp0TJsHxddWkOXmjPLQpSzWU6hzEq3JvJ28tTzWDm1Q/pub?gid=1459555462&single=true&output=csv',\n",
        "                   header = 2, names =[\"Timestamp\", \"Email\", \"Name\", \"Country\", \"Currency\", \"Store_Name\", \"Store_Perception\",\n",
        "                           \"Rental_Price\",\n",
        "                           \"Apple1_q\", \"Apple1_p\",\"Apple2_q\", \"Apple2_p\", \"Apple3_q\", \"Apple3_p\",\n",
        "                           \"Banana1_q\", \"Banana1_p\",\"Banana2_q\",\"Banana2_p\",\"Banana3_q\", \"Banana3_p\",\n",
        "                           \"Tomatoes1_q\",\"Tomatoes1_p\",\"Tomatoes2_q\",\"Tomatoes2_p\", \"Tomatoes3_q\", \"Tomatoes3_p\",\n",
        "                           \"Potato1_q\",\"Potato1_p\", \"Potato2_q\",\"Potato2_p\",\"Potato3_q\",\"Potato3_p\",\n",
        "                           \"Flour1_q\",\"Flour1_p\",\"Flour2_q\",\"Flour2_p\", \"Flour3_q\",\"Flour3_p\",\n",
        "\n",
        "                           \"Rice1_q\",\"Rice1_p\",\"Rice2_q\",\"Rice2_p\", \"Rice3_q\",\"Rice3_p\",\n",
        "\n",
        "                           \"Milk1_q\",\"Milk1_p\",\"Milk2_q\",\"Milk2_p\", \"Milk3_q\", \"Milk3_p\",\n",
        "                           \"Butter1_q\", \"Butter1_p\", \"Butter2_q\", \"Butter2_p\", \"Butter3_q\", \"Butter3_p\",\n",
        "                           \"Eggs1_q\",\"Eggs1_p\",\"Eggs2_q\", \"Eggs2_p\",\"Eggs3_q\",\"Eggs3_p\",\n",
        "                           \"Chicken1_q\", \"Chicken1_p\",\"Chicken2_q\",\"Chicken2_p\",\"Chicken3_q\",\"Chicken3_p\",     \n",
        "                           ]\n",
        "                   \n",
        "                   )"
      ],
      "execution_count": 2,
      "outputs": []
    },
    {
      "cell_type": "markdown",
      "metadata": {
        "id": "DrupBHO7C2G-"
      },
      "source": [
        "First, I drop the name,email, timestamp, columns because they are not necessary for the analysis.  \n"
      ]
    },
    {
      "cell_type": "code",
      "metadata": {
        "colab": {
          "base_uri": "https://localhost:8080/"
        },
        "id": "lbfdRylQCJKt",
        "outputId": "65311219-531c-487b-adbd-92f00125d6e6"
      },
      "source": [
        "data = data.drop(labels = [\"Name\", \"Email\", \"Timestamp\", \"Store_Name\"], axis=1)\n",
        "data.shape\n",
        "# data.head()"
      ],
      "execution_count": 3,
      "outputs": [
        {
          "output_type": "execute_result",
          "data": {
            "text/plain": [
              "(50, 64)"
            ]
          },
          "metadata": {
            "tags": []
          },
          "execution_count": 3
        }
      ]
    },
    {
      "cell_type": "markdown",
      "metadata": {
        "id": "OReuG7Nz5I0W"
      },
      "source": [
        "## Data Formatting\n",
        "\n"
      ]
    },
    {
      "cell_type": "markdown",
      "metadata": {
        "id": "WOVW8I-N9UAy"
      },
      "source": [
        "### Normalizing the prices \n",
        "\n",
        "First, I need to bring the prices to the same quantity - 1 kilogram. Some of the quantities have 10,000 number - indicating that this value is invalid. because the price for that qunatity is N/A, the prices will not be affected. Therefore, no need to correct thise quantities. N/A valueds will be dropped. \n",
        "\n",
        "Then, I need to convert the prices into one currency - American dollar -  so we can compare the prices of different countries. "
      ]
    },
    {
      "cell_type": "code",
      "metadata": {
        "colab": {
          "base_uri": "https://localhost:8080/"
        },
        "id": "9J7-r57uDKNy",
        "outputId": "3c79f6fe-d3c6-4ae6-fcf6-bad289c6d04b"
      },
      "source": [
        "###bringing all the prices to the price per 1 kilo\n",
        "\n",
        "for i in range(5, 65, 2): #for each of the produce price\n",
        "    data[data.columns[i]] /= data[data.columns[i-1]]\n",
        "    # data = data.drop(data.columns[i-1], axis = 1)\n",
        "# data.head()\n"
      ],
      "execution_count": 4,
      "outputs": [
        {
          "output_type": "stream",
          "text": [
            "INFO:numexpr.utils:NumExpr defaulting to 2 threads.\n"
          ],
          "name": "stderr"
        }
      ]
    },
    {
      "cell_type": "code",
      "metadata": {
        "id": "rVo1YwWLAsFj"
      },
      "source": [
        ""
      ],
      "execution_count": 4,
      "outputs": []
    },
    {
      "cell_type": "code",
      "metadata": {
        "id": "qYFlziUeGEek"
      },
      "source": [
        "\n",
        "#dropping the quantities\n",
        "columns_to_drop = [i for i in range(4, 64, 2)]\n",
        "data_normalized = data.drop(data.columns[columns_to_drop], axis = 1)\n"
      ],
      "execution_count": 5,
      "outputs": []
    },
    {
      "cell_type": "code",
      "metadata": {
        "id": "Nl1E45gZ_uVj"
      },
      "source": [
        "\n",
        "##bringing the prices to the same currency - USD\n",
        "\n",
        "data_normalized.Currency.unique()\n",
        "\n",
        "# creating a list of conversion value to dollar for each of the google from response\n",
        "exchange_rate = []\n",
        "for cur in data_normalized.Currency:\n",
        "\n",
        "  if cur == \"USD\":\n",
        "    exchange_rate.append(1)\n",
        "\n",
        "  elif cur == \"SEK\":\n",
        "    exchange_rate.append(0.12)\n",
        "  elif cur ==  'UAH':\n",
        "    exchange_rate.append(0.036)\n",
        "\n",
        "  elif cur == \"KES\":\n",
        "    exchange_rate.append(0.0091)\n",
        "\n",
        "  elif cur == \"BRL\":\n",
        "    exchange_rate.append(0.17)\n",
        "\n",
        "  elif cur == \"BDT\":\n",
        "    exchange_rate.append(0.012)\n",
        "data_normalized['Currency_Converter'] = exchange_rate"
      ],
      "execution_count": 6,
      "outputs": []
    },
    {
      "cell_type": "code",
      "metadata": {
        "colab": {
          "base_uri": "https://localhost:8080/"
        },
        "id": "ogitz2zjEIex",
        "outputId": "125603d8-b727-45aa-a9fc-70fb9e0d8f61"
      },
      "source": [
        "\n",
        "data_normalized.shape\n",
        "# data_normalized.head()"
      ],
      "execution_count": 7,
      "outputs": [
        {
          "output_type": "execute_result",
          "data": {
            "text/plain": [
              "(50, 35)"
            ]
          },
          "metadata": {
            "tags": []
          },
          "execution_count": 7
        }
      ]
    },
    {
      "cell_type": "code",
      "metadata": {
        "id": "lja0kXrLGbds"
      },
      "source": [
        "#multiplying the prices by the conversion parameters so that all the prices are in dollars\n",
        "\n",
        "for i in range(4, 34): #for each of the produce price\n",
        "    data_normalized[data_normalized.columns[i]] *= data_normalized[data_normalized.columns[34]]"
      ],
      "execution_count": 8,
      "outputs": []
    },
    {
      "cell_type": "markdown",
      "metadata": {
        "id": "HGFZcaw4Hy78"
      },
      "source": [
        "Now the prices are unified across the weight and across the currencies, therefroe, they can be comparable. "
      ]
    },
    {
      "cell_type": "markdown",
      "metadata": {
        "id": "xV48K71n7z_4"
      },
      "source": [
        "## Countries Formatting\n",
        "\n",
        "In this section, I am standardizing and replacing the countries value to contain standardized names that later can be classified and put into dictionary. "
      ]
    },
    {
      "cell_type": "code",
      "metadata": {
        "colab": {
          "base_uri": "https://localhost:8080/"
        },
        "id": "1HVj19n7HSEt",
        "outputId": "95894389-b3a0-4441-9770-00fefc03b1cb"
      },
      "source": [
        "#seeing the current countries listed\n",
        "data_normalized[\"Country\"].unique()"
      ],
      "execution_count": 9,
      "outputs": [
        {
          "output_type": "execute_result",
          "data": {
            "text/plain": [
              "array(['United States', 'Sweden', 'Ukraine', 'USA', 'US',\n",
              "       'USA (San Francisco)', 'Kenya', 'Brazil',\n",
              "       'United States of America', 'Dallas, TX, USA',\n",
              "       'San Francisco, USA', 'San Francisco', 'United States ',\n",
              "       'Bangladesh', 'San Francisco, United States'], dtype=object)"
            ]
          },
          "metadata": {
            "tags": []
          },
          "execution_count": 9
        }
      ]
    },
    {
      "cell_type": "code",
      "metadata": {
        "colab": {
          "base_uri": "https://localhost:8080/"
        },
        "id": "ukrscqwC3gAk",
        "outputId": "30cd9484-7942-4374-9431-55b84485d089"
      },
      "source": [
        "#replacing with a more unified notation\n",
        "data_normalized.Country = data_normalized.Country.replace([\"United States\", \"US\", 'USA (San Francisco)',\n",
        "                                                           'United States of America', 'Dallas, TX, USA',\n",
        "                                                           'San Francisco, USA', 'San Francisco', 'United States ', 'San Francisco, United States'], \n",
        "                                                           [\"USA\", \"USA\", \"USA\",\"USA\",\"USA\",\"USA\",\"USA\", \"USA\", 'USA']\n",
        " )\n",
        "data_normalized.Country.unique()\n",
        "\n",
        "\n"
      ],
      "execution_count": 10,
      "outputs": [
        {
          "output_type": "execute_result",
          "data": {
            "text/plain": [
              "array(['USA', 'Sweden', 'Ukraine', 'Kenya', 'Brazil', 'Bangladesh'],\n",
              "      dtype=object)"
            ]
          },
          "metadata": {
            "tags": []
          },
          "execution_count": 10
        }
      ]
    },
    {
      "cell_type": "markdown",
      "metadata": {
        "id": "ia3pdYQp-Ac2"
      },
      "source": [
        "## Store Type Formating\n",
        "\n",
        "In this section, I am making the types of the stores (budget, mid-range, luxury) consistent so that the three parameters will have three multipliers. "
      ]
    },
    {
      "cell_type": "code",
      "metadata": {
        "colab": {
          "base_uri": "https://localhost:8080/"
        },
        "id": "54zRRiBO-DQR",
        "outputId": "a72b3459-5008-455f-8fd6-fb9b811df613"
      },
      "source": [
        "#previewing the raw names for the types of stores\n",
        "print('Initial store classification', data_normalized.Store_Perception.unique())\n",
        "\n",
        "\n",
        "#replacing with a unified notation\n",
        "data_normalized.Store_Perception = data_normalized.Store_Perception.replace('Small store in expensive neighborhood (high prices)','Luxury (expensive)' )\n",
        "\n",
        "print('Formated store classification', data_normalized.Store_Perception.unique())"
      ],
      "execution_count": 11,
      "outputs": [
        {
          "output_type": "stream",
          "text": [
            "Initial store classification ['Mid-range' 'Luxury (expensive)' 'Budget (cheap)'\n",
            " 'Small store in expensive neighborhood (high prices)']\n",
            "Formated store classification ['Mid-range' 'Luxury (expensive)' 'Budget (cheap)']\n"
          ],
          "name": "stdout"
        }
      ]
    },
    {
      "cell_type": "markdown",
      "metadata": {
        "id": "GmgQs7iT5Ecl"
      },
      "source": [
        "## Forming a dictionary \n",
        "\n",
        "\n",
        "Here, I first drop the columns that we no longer need and leaving only the prices, store type, and country. Then, I am using the pandas melt function that will help me to create a dictionry of a format, suitable for the stan model. I am leaving only the store type, the country, and the prices as the columns in the pandas object. \n"
      ]
    },
    {
      "cell_type": "code",
      "metadata": {
        "colab": {
          "base_uri": "https://localhost:8080/",
          "height": 224
        },
        "id": "sVAjevTK4snt",
        "outputId": "aed59c52-1900-4d15-d913-b41efefd5367"
      },
      "source": [
        "data_normalized.head()\n"
      ],
      "execution_count": 12,
      "outputs": [
        {
          "output_type": "execute_result",
          "data": {
            "text/html": [
              "<div>\n",
              "<style scoped>\n",
              "    .dataframe tbody tr th:only-of-type {\n",
              "        vertical-align: middle;\n",
              "    }\n",
              "\n",
              "    .dataframe tbody tr th {\n",
              "        vertical-align: top;\n",
              "    }\n",
              "\n",
              "    .dataframe thead th {\n",
              "        text-align: right;\n",
              "    }\n",
              "</style>\n",
              "<table border=\"1\" class=\"dataframe\">\n",
              "  <thead>\n",
              "    <tr style=\"text-align: right;\">\n",
              "      <th></th>\n",
              "      <th>Country</th>\n",
              "      <th>Currency</th>\n",
              "      <th>Store_Perception</th>\n",
              "      <th>Rental_Price</th>\n",
              "      <th>Apple1_p</th>\n",
              "      <th>Apple2_p</th>\n",
              "      <th>Apple3_p</th>\n",
              "      <th>Banana1_p</th>\n",
              "      <th>Banana2_p</th>\n",
              "      <th>Banana3_p</th>\n",
              "      <th>Tomatoes1_p</th>\n",
              "      <th>Tomatoes2_p</th>\n",
              "      <th>Tomatoes3_p</th>\n",
              "      <th>Potato1_p</th>\n",
              "      <th>Potato2_p</th>\n",
              "      <th>Potato3_p</th>\n",
              "      <th>Flour1_p</th>\n",
              "      <th>Flour2_p</th>\n",
              "      <th>Flour3_p</th>\n",
              "      <th>Rice1_p</th>\n",
              "      <th>Rice2_p</th>\n",
              "      <th>Rice3_p</th>\n",
              "      <th>Milk1_p</th>\n",
              "      <th>Milk2_p</th>\n",
              "      <th>Milk3_p</th>\n",
              "      <th>Butter1_p</th>\n",
              "      <th>Butter2_p</th>\n",
              "      <th>Butter3_p</th>\n",
              "      <th>Eggs1_p</th>\n",
              "      <th>Eggs2_p</th>\n",
              "      <th>Eggs3_p</th>\n",
              "      <th>Chicken1_p</th>\n",
              "      <th>Chicken2_p</th>\n",
              "      <th>Chicken3_p</th>\n",
              "      <th>Currency_Converter</th>\n",
              "    </tr>\n",
              "  </thead>\n",
              "  <tbody>\n",
              "    <tr>\n",
              "      <th>0</th>\n",
              "      <td>USA</td>\n",
              "      <td>USD</td>\n",
              "      <td>Mid-range</td>\n",
              "      <td>2996</td>\n",
              "      <td>3.445996</td>\n",
              "      <td>2.637766</td>\n",
              "      <td>2.196914</td>\n",
              "      <td>1.967033</td>\n",
              "      <td>2.083333</td>\n",
              "      <td>NaN</td>\n",
              "      <td>7.026432</td>\n",
              "      <td>2.841410</td>\n",
              "      <td>9.966667</td>\n",
              "      <td>1.141975</td>\n",
              "      <td>7.338235</td>\n",
              "      <td>5.867647</td>\n",
              "      <td>1.626984</td>\n",
              "      <td>2.076923</td>\n",
              "      <td>12.076923</td>\n",
              "      <td>5.791667</td>\n",
              "      <td>7.047059</td>\n",
              "      <td>3.615385</td>\n",
              "      <td>1.158730</td>\n",
              "      <td>1.052910</td>\n",
              "      <td>2.389222</td>\n",
              "      <td>5.325581</td>\n",
              "      <td>8.200000</td>\n",
              "      <td>14.297297</td>\n",
              "      <td>0.140833</td>\n",
              "      <td>0.132778</td>\n",
              "      <td>0.332500</td>\n",
              "      <td>13.193833</td>\n",
              "      <td>7.574956</td>\n",
              "      <td>4.680265</td>\n",
              "      <td>1.00</td>\n",
              "    </tr>\n",
              "    <tr>\n",
              "      <th>1</th>\n",
              "      <td>USA</td>\n",
              "      <td>USD</td>\n",
              "      <td>Luxury (expensive)</td>\n",
              "      <td>3360</td>\n",
              "      <td>5.484581</td>\n",
              "      <td>6.585903</td>\n",
              "      <td>8.788546</td>\n",
              "      <td>1.079295</td>\n",
              "      <td>3.281938</td>\n",
              "      <td>4.383260</td>\n",
              "      <td>4.383260</td>\n",
              "      <td>3.942731</td>\n",
              "      <td>6.585903</td>\n",
              "      <td>2.180617</td>\n",
              "      <td>2.841410</td>\n",
              "      <td>3.281938</td>\n",
              "      <td>3.522928</td>\n",
              "      <td>4.316578</td>\n",
              "      <td>3.214286</td>\n",
              "      <td>4.955899</td>\n",
              "      <td>4.340659</td>\n",
              "      <td>8.223529</td>\n",
              "      <td>1.527704</td>\n",
              "      <td>2.500000</td>\n",
              "      <td>5.252632</td>\n",
              "      <td>9.977778</td>\n",
              "      <td>18.644444</td>\n",
              "      <td>19.960000</td>\n",
              "      <td>0.724167</td>\n",
              "      <td>0.499167</td>\n",
              "      <td>0.482500</td>\n",
              "      <td>10.991189</td>\n",
              "      <td>13.193833</td>\n",
              "      <td>15.396476</td>\n",
              "      <td>1.00</td>\n",
              "    </tr>\n",
              "    <tr>\n",
              "      <th>2</th>\n",
              "      <td>USA</td>\n",
              "      <td>USD</td>\n",
              "      <td>Budget (cheap)</td>\n",
              "      <td>4000</td>\n",
              "      <td>4.383260</td>\n",
              "      <td>2.621145</td>\n",
              "      <td>2.180617</td>\n",
              "      <td>1.299559</td>\n",
              "      <td>1.519824</td>\n",
              "      <td>1.740088</td>\n",
              "      <td>2.841410</td>\n",
              "      <td>3.942731</td>\n",
              "      <td>3.722467</td>\n",
              "      <td>0.664444</td>\n",
              "      <td>1.740088</td>\n",
              "      <td>2.180617</td>\n",
              "      <td>2.194046</td>\n",
              "      <td>1.185022</td>\n",
              "      <td>0.964758</td>\n",
              "      <td>4.950386</td>\n",
              "      <td>3.519824</td>\n",
              "      <td>8.892857</td>\n",
              "      <td>0.915567</td>\n",
              "      <td>2.151079</td>\n",
              "      <td>0.525066</td>\n",
              "      <td>8.127753</td>\n",
              "      <td>9.889868</td>\n",
              "      <td>10.991189</td>\n",
              "      <td>0.332500</td>\n",
              "      <td>0.374167</td>\n",
              "      <td>0.249167</td>\n",
              "      <td>13.193833</td>\n",
              "      <td>4.845543</td>\n",
              "      <td>9.889868</td>\n",
              "      <td>1.00</td>\n",
              "    </tr>\n",
              "    <tr>\n",
              "      <th>3</th>\n",
              "      <td>USA</td>\n",
              "      <td>USD</td>\n",
              "      <td>Luxury (expensive)</td>\n",
              "      <td>4000</td>\n",
              "      <td>9.000000</td>\n",
              "      <td>4.760000</td>\n",
              "      <td>NaN</td>\n",
              "      <td>4.125874</td>\n",
              "      <td>NaN</td>\n",
              "      <td>NaN</td>\n",
              "      <td>4.166667</td>\n",
              "      <td>35.235294</td>\n",
              "      <td>NaN</td>\n",
              "      <td>17.500000</td>\n",
              "      <td>21.071429</td>\n",
              "      <td>NaN</td>\n",
              "      <td>3.960352</td>\n",
              "      <td>8.009631</td>\n",
              "      <td>NaN</td>\n",
              "      <td>5.501654</td>\n",
              "      <td>NaN</td>\n",
              "      <td>NaN</td>\n",
              "      <td>5.803383</td>\n",
              "      <td>2.640212</td>\n",
              "      <td>5.422705</td>\n",
              "      <td>39.603524</td>\n",
              "      <td>16.233062</td>\n",
              "      <td>26.387665</td>\n",
              "      <td>0.499167</td>\n",
              "      <td>0.457500</td>\n",
              "      <td>NaN</td>\n",
              "      <td>47.000000</td>\n",
              "      <td>NaN</td>\n",
              "      <td>NaN</td>\n",
              "      <td>1.00</td>\n",
              "    </tr>\n",
              "    <tr>\n",
              "      <th>4</th>\n",
              "      <td>Sweden</td>\n",
              "      <td>SEK</td>\n",
              "      <td>Budget (cheap)</td>\n",
              "      <td>6887</td>\n",
              "      <td>3.480000</td>\n",
              "      <td>3.600000</td>\n",
              "      <td>2.400000</td>\n",
              "      <td>3.000000</td>\n",
              "      <td>3.240000</td>\n",
              "      <td>3.360000</td>\n",
              "      <td>3.840000</td>\n",
              "      <td>7.680000</td>\n",
              "      <td>6.480000</td>\n",
              "      <td>1.440000</td>\n",
              "      <td>1.440000</td>\n",
              "      <td>1.320000</td>\n",
              "      <td>0.720000</td>\n",
              "      <td>0.840000</td>\n",
              "      <td>0.960000</td>\n",
              "      <td>3.960000</td>\n",
              "      <td>2.820000</td>\n",
              "      <td>5.640000</td>\n",
              "      <td>1.560000</td>\n",
              "      <td>1.200000</td>\n",
              "      <td>1.040000</td>\n",
              "      <td>9.360000</td>\n",
              "      <td>9.360000</td>\n",
              "      <td>11.280000</td>\n",
              "      <td>0.360000</td>\n",
              "      <td>0.300000</td>\n",
              "      <td>0.350000</td>\n",
              "      <td>12.972973</td>\n",
              "      <td>16.735135</td>\n",
              "      <td>11.666667</td>\n",
              "      <td>0.12</td>\n",
              "    </tr>\n",
              "  </tbody>\n",
              "</table>\n",
              "</div>"
            ],
            "text/plain": [
              "  Country Currency  ... Chicken3_p Currency_Converter\n",
              "0     USA      USD  ...   4.680265               1.00\n",
              "1     USA      USD  ...  15.396476               1.00\n",
              "2     USA      USD  ...   9.889868               1.00\n",
              "3     USA      USD  ...        NaN               1.00\n",
              "4  Sweden      SEK  ...  11.666667               0.12\n",
              "\n",
              "[5 rows x 35 columns]"
            ]
          },
          "metadata": {
            "tags": []
          },
          "execution_count": 12
        }
      ]
    },
    {
      "cell_type": "code",
      "metadata": {
        "id": "c2lObP5Y6zHN",
        "colab": {
          "base_uri": "https://localhost:8080/"
        },
        "outputId": "23723cdd-4504-4fb2-93a3-2ddd3faa6242"
      },
      "source": [
        "\n",
        "#dropping the irrelevant columns from the df\n",
        "final_data =data_normalized.drop(labels = [\"Currency\", \"Currency_Converter\"], axis=1)\n",
        "\n",
        "\n",
        "#getting the value_vars parameter for the melt function to melt them into one column\n",
        "value_var = ['Apple1_p', 'Apple2_p', 'Apple3_p',\n",
        "         'Banana1_p', 'Banana2_p', 'Banana3_p',\n",
        "         'Tomatoes1_p', 'Tomatoes2_p', 'Tomatoes3_p',\n",
        "         'Potato1_p', 'Potato2_p', 'Potato3_p',\n",
        "         'Flour1_p', 'Flour2_p', 'Flour3_p',\n",
        "         'Rice1_p', 'Rice2_p', 'Rice3_p',\n",
        "         'Milk1_p', 'Milk2_p', 'Milk3_p',\n",
        "         'Butter1_p', 'Butter2_p', 'Butter3_p',\n",
        "         'Eggs1_p', 'Eggs2_p', 'Eggs3_p',\n",
        "         'Chicken1_p', 'Chicken2_p', 'Chicken3_p']\n",
        "\n",
        "\n",
        "#melting the df on the price\n",
        "final_data_input = pd.melt(final_data, id_vars=['Country', 'Store_Perception'],\n",
        "                     value_vars=value_var,\n",
        "                     value_name = 'Price', var_name = 'Product')\n",
        "\n",
        "final_data_input.shape"
      ],
      "execution_count": 13,
      "outputs": [
        {
          "output_type": "execute_result",
          "data": {
            "text/plain": [
              "(1500, 4)"
            ]
          },
          "metadata": {
            "tags": []
          },
          "execution_count": 13
        }
      ]
    },
    {
      "cell_type": "markdown",
      "metadata": {
        "id": "zV0uiwR5J-3l"
      },
      "source": [
        "Now I need to change the values of the product to contain 10 keywords for each of the product type. "
      ]
    },
    {
      "cell_type": "code",
      "metadata": {
        "id": "vqu5FSSX7gro"
      },
      "source": [
        "#stripping the endings of the Product column so it only contains 10 types of vegetables\n",
        "final_data_input[\"Product\"] = final_data_input[\"Product\"].apply(lambda x: re.sub(r'[0-9]{1}_p', '',x))\n",
        "\n"
      ],
      "execution_count": 14,
      "outputs": []
    },
    {
      "cell_type": "code",
      "metadata": {
        "id": "ILBvYmy5RJ_Z"
      },
      "source": [
        "\n",
        "#saving the names of the countries, products, and countries to plot the distributions later\n",
        "products_names = final_data_input.Product.unique()\n",
        "country_names = final_data_input.Country.unique()\n",
        "store_names = final_data_input.Store_Perception.unique()"
      ],
      "execution_count": 15,
      "outputs": []
    },
    {
      "cell_type": "code",
      "metadata": {
        "id": "Q7O6GSylPUrm"
      },
      "source": [
        "#replacing the strings of stores and countries with the indexes to insert into Stan model\n",
        "final_data_input.Store_Perception = final_data_input.Store_Perception.replace(\n",
        "    ['Mid-range', 'Luxury (expensive)', 'Budget (cheap)'],\n",
        "    [1,2,3])\n",
        "\n",
        "\n",
        "#replacing the countries\n",
        "final_data_input.Country = final_data_input.Country.replace(\n",
        "    ['USA', 'Sweden', 'Ukraine', 'Kenya', 'Brazil', 'Bangladesh'],\n",
        "    [1,2,3,4,5,6])\n",
        "\n",
        "\n",
        "#replacing the products\n",
        "final_data_input.Product = final_data_input.Product.replace(\n",
        "    ['Apple', 'Banana', 'Tomatoes', 'Potato', 'Flour', 'Rice', 'Milk',\n",
        "       'Butter', 'Eggs', 'Chicken'],\n",
        "    [1,2,3,4,5,6,7,8,9,10])\n"
      ],
      "execution_count": 16,
      "outputs": []
    },
    {
      "cell_type": "code",
      "metadata": {
        "colab": {
          "base_uri": "https://localhost:8080/"
        },
        "id": "XndYLw_URwQl",
        "outputId": "ab9d7e6f-8cf7-4996-e036-f4a8140c0d0d"
      },
      "source": [
        "print(final_data_input.head())\n",
        "final_data_input = final_data_input.dropna()\n",
        "final_data_input.shape"
      ],
      "execution_count": 17,
      "outputs": [
        {
          "output_type": "stream",
          "text": [
            "   Country  Store_Perception  Product     Price\n",
            "0        1                 1        1  3.445996\n",
            "1        1                 2        1  5.484581\n",
            "2        1                 3        1  4.383260\n",
            "3        1                 2        1  9.000000\n",
            "4        2                 3        1  3.480000\n"
          ],
          "name": "stdout"
        },
        {
          "output_type": "execute_result",
          "data": {
            "text/plain": [
              "(1293, 4)"
            ]
          },
          "metadata": {
            "tags": []
          },
          "execution_count": 17
        }
      ]
    },
    {
      "cell_type": "code",
      "metadata": {
        "id": "a49SqazaJnDt"
      },
      "source": [
        "model_data = {\n",
        "    \n",
        "    #Data values\n",
        "    \"prices_N\" : final_data_input.shape[0], #prices observations, 30*(number of forms)\n",
        "    'prices' : final_data_input.Price.values, #prices for each of teh observation\n",
        "\n",
        "\n",
        "    'store_N': len(final_data_input.Store_Perception.unique()), # types of stores - 3\n",
        "    \"store_types\" : final_data_input.Store_Perception.values, # vals 1-3 to indicate the store pricing\n",
        "\n",
        "    'country_N': len(final_data_input.Country.unique()), # countries in analysis - 6\n",
        "    \"countries\" : final_data_input.Country.values, #cals 1-6 to indicate different countries \n",
        "\n",
        "\n",
        "    'products_N': len(final_data_input.Product.unique()), #products observed  - 10  \n",
        "    'products': final_data_input.Product.values # vals 1-10 for each product type\n",
        "\n",
        "}\n",
        "# type(list(model_data['countries']))\n",
        "# print(model_data['countries'])\n",
        "# print((model_data['prices_N']))\n",
        "# final_data_input.Country.unique()"
      ],
      "execution_count": 18,
      "outputs": []
    },
    {
      "cell_type": "markdown",
      "metadata": {
        "id": "EYJOZvHZFyKH"
      },
      "source": [
        "#Building the model\n",
        "\n",
        "In this seciton, I will build the stan models. Then, I will visualize the results of the stan model with the predicted prices, country, and store type multipliers distribution, as we have previously conducted with the election votes. This will help to jusge on whether the predictions seem plausible."
      ]
    },
    {
      "cell_type": "code",
      "metadata": {
        "id": "MYL8NlRhKQYU"
      },
      "source": [
        ""
      ],
      "execution_count": 18,
      "outputs": []
    },
    {
      "cell_type": "markdown",
      "metadata": {
        "id": "nFFAmWayF1xM"
      },
      "source": [
        ""
      ]
    },
    {
      "cell_type": "code",
      "metadata": {
        "colab": {
          "base_uri": "https://localhost:8080/"
        },
        "id": "Z3Ln5S4IKnhr",
        "outputId": "550d9715-b355-43b2-90be-99c10d97ab73"
      },
      "source": [
        "stan_code = \"\"\"\n",
        "\n",
        "data {\n",
        "  int<lower=1> prices_N;                  // number of observed prices\n",
        "  real<lower =0> prices[prices_N];         //list of prices\n",
        "\n",
        "\n",
        "  int<lower=1> store_N;                 // number of different store types\n",
        "  int<lower =1> store_types[prices_N];            // list of store types\n",
        "\n",
        "\n",
        "  int<lower=1> country_N;               // number of countries \n",
        "  int<lower = 1> countries[prices_N];  // list of countries \n",
        "\n",
        "\n",
        "  int<lower = 1> products_N;            // number of different products presented\n",
        "  int<lower = 1> products[prices_N];  // list of different products\n",
        "\n",
        "}\n",
        "\n",
        "\n",
        "parameters {\n",
        "\n",
        "  // 3 multipliers to input into likelihood function\n",
        "  real<lower = 0> base_price[products_N]; // 10 different base prices\n",
        "  real<lower=0> country_multiplier[country_N]; // 6 different multipliers\n",
        "  real<lower = 0> store_multiplier[store_N]; // 3 multipliers\n",
        "\n",
        "\n",
        "\n",
        "// unknown parameters\n",
        "\n",
        "real<lower = 0> sigma;\n",
        "real<lower=0> lambda;\n",
        "}\n",
        "\n",
        "model {\n",
        "\n",
        "//Hyperparameters priors\n",
        "\n",
        "sigma ~ gamma(1,1); //uninformed prior about the uncertainty of the N distribution\n",
        "lambda ~ gamma(1, 0.2); //hyperparameter for the exponential likelihood function\n",
        "\n",
        "\n",
        "// Priors\n",
        "\n",
        "base_price ~ exponential(lambda);\n",
        "country_multiplier ~ lognormal(0,1);\n",
        "store_multiplier ~ lognormal(0,1);\n",
        "\n",
        "\n",
        "//Likelihood\n",
        "\n",
        "for (datum in 1:prices_N) {\n",
        "    prices[datum] ~ normal(base_price[products[datum]]*country_multiplier[countries[datum]]*store_multiplier[store_types[datum]], sigma);\n",
        "\n",
        "\n",
        "}\n",
        "\n",
        "\n",
        "}\n",
        "\"\"\"\n",
        "stan_model = pystan.StanModel(model_code=stan_code)"
      ],
      "execution_count": 19,
      "outputs": [
        {
          "output_type": "stream",
          "text": [
            "INFO:pystan:COMPILING THE C++ CODE FOR MODEL anon_model_a522a2221284f0a635ed76517be7843f NOW.\n"
          ],
          "name": "stderr"
        }
      ]
    },
    {
      "cell_type": "code",
      "metadata": {
        "colab": {
          "base_uri": "https://localhost:8080/"
        },
        "id": "dpJSJV8PZf1z",
        "outputId": "b1fdc233-01fa-4fd4-fed1-8d4a2c0c4810"
      },
      "source": [
        "results = stan_model.sampling(data=model_data)\n",
        "print(results)\n"
      ],
      "execution_count": 20,
      "outputs": [
        {
          "output_type": "stream",
          "text": [
            "Inference for Stan model: anon_model_a522a2221284f0a635ed76517be7843f.\n",
            "4 chains, each with iter=2000; warmup=1000; thin=1; \n",
            "post-warmup draws per chain=1000, total post-warmup draws=4000.\n",
            "\n",
            "                        mean se_mean     sd   2.5%    25%    50%    75%  97.5%  n_eff   Rhat\n",
            "base_price[1]           2.88    0.11   2.36   0.56   1.39   2.22    3.6   9.49    430   1.01\n",
            "base_price[2]           1.52    0.06   1.27   0.29   0.72   1.15   1.89   4.98    434    1.0\n",
            "base_price[3]           3.59    0.14   2.92   0.72   1.74   2.76    4.5  11.72    428   1.01\n",
            "base_price[4]           1.88    0.07   1.56   0.37    0.9   1.44   2.35   6.16    439   1.01\n",
            "base_price[5]           1.66    0.07   1.37   0.32   0.79   1.29   2.07    5.5    438   1.01\n",
            "base_price[6]           2.99    0.12   2.43    0.6   1.45   2.31   3.72   9.86    432   1.01\n",
            "base_price[7]           1.17    0.05   0.98   0.22   0.55   0.89   1.46   3.87    449   1.01\n",
            "base_price[8]           8.09    0.32   6.56   1.61   3.91   6.23  10.04  26.18    425   1.01\n",
            "base_price[9]           0.41    0.02    0.4   0.04   0.16   0.29   0.51   1.55    522    1.0\n",
            "base_price[10]          6.46    0.25   5.25   1.29   3.13    5.0   8.04  20.84    426   1.01\n",
            "country_multiplier[1]   1.76    0.03   0.75   0.73   1.23   1.61   2.14   3.62    768    1.0\n",
            "country_multiplier[2]   1.84    0.03   0.79   0.76   1.27   1.69   2.26   3.75    793    1.0\n",
            "country_multiplier[3]   0.99    0.02   0.43    0.4   0.68   0.91   1.21   2.05    781    1.0\n",
            "country_multiplier[4]   1.26    0.02   0.56   0.49   0.86   1.14   1.53   2.63    838    1.0\n",
            "country_multiplier[5]   0.84    0.01   0.36   0.33   0.57   0.77   1.02   1.71    836    1.0\n",
            "country_multiplier[6]   0.98    0.02   0.44   0.38   0.67   0.88    1.2   2.09    841    1.0\n",
            "store_multiplier[1]     1.54    0.04   0.96   0.41   0.88   1.33   1.92   4.14    683    1.0\n",
            "store_multiplier[2]      2.1    0.05   1.31   0.57    1.2   1.81   2.61   5.59    686    1.0\n",
            "store_multiplier[3]     1.26    0.03   0.79   0.34   0.72   1.08   1.56   3.42    682    1.0\n",
            "sigma                    3.3  1.5e-3   0.07   3.17   3.26    3.3   3.35   3.44   1930    1.0\n",
            "lambda                  0.58    0.02   0.49   0.09   0.26   0.44   0.74   1.88    659   1.01\n",
            "lp__                   -2211    0.09   3.36  -2218  -2213  -2210  -2208  -2205   1300    1.0\n",
            "\n",
            "Samples were drawn using NUTS at Fri Mar 12 16:39:29 2021.\n",
            "For each parameter, n_eff is a crude measure of effective sample size,\n",
            "and Rhat is the potential scale reduction factor on split chains (at \n",
            "convergence, Rhat=1).\n"
          ],
          "name": "stdout"
        }
      ]
    },
    {
      "cell_type": "code",
      "metadata": {
        "id": "6_fA8tnEZ13Y"
      },
      "source": [
        "samples = results.extract()"
      ],
      "execution_count": 21,
      "outputs": []
    },
    {
      "cell_type": "markdown",
      "metadata": {
        "id": "K0FfChzSGm8K"
      },
      "source": [
        "## Distribution of predicted base prices\n",
        "\n",
        "The base price looks okay, with butter and chicken having the highest prices and highest uncertainty. By looking at the data, this trends looks consistent. This graph, however, does not reproduce the real prices because prices will be change by the country and store type multipliers, the distribution for which are shown below."
      ]
    },
    {
      "cell_type": "code",
      "metadata": {
        "colab": {
          "base_uri": "https://localhost:8080/",
          "height": 390
        },
        "id": "as6ofRHCBsIG",
        "outputId": "8c249c8d-b28b-4cb5-bfcb-20d671a826ce"
      },
      "source": [
        "plt.figure(figsize=(15,6))\n",
        "\n",
        "for i in range(model_data['products_N']): #for each of the product\n",
        "    plt.plot(stats.uniform.rvs(loc=i, scale=0.4, size = 4000),\n",
        "             samples['base_price'][:,i], ',', alpha=2)\n",
        "    \n",
        "# plt.plot(range(1, len(final_data.Product.unique()) + 1),\n",
        "#          samples['base_price'].mean(axis=0), marker='.',\n",
        "#          linewidth=0,color=\"black\", alpha=0.8, markersize=12)\n",
        "\n",
        "plt.title('Samples of posterior distributions of base prices')\n",
        "plt.xticks(range(1,11), (products_names))\n",
        "plt.ylim(0, 30)\n",
        "plt.show()"
      ],
      "execution_count": 22,
      "outputs": [
        {
          "output_type": "display_data",
          "data": {
            "image/png": "[encoded data removed]",
            "text/plain": [
              "<Figure size 1080x432 with 1 Axes>"
            ]
          },
          "metadata": {
            "tags": []
          }
        }
      ]
    },
    {
      "cell_type": "markdown",
      "metadata": {
        "id": "JDULmTuDHsjn"
      },
      "source": [
        "## Distribution of country multiplier\n",
        "\n",
        "The multipliers are mostly above or very close to 1. For the more expensive and developed countries, the multiplier range is higher (USA and Sweden) that will make the prices more expensive. For Kenya, Brazil, and Bangladesh, the multipliers are lower. This distribution seems relevant and error-free"
      ]
    },
    {
      "cell_type": "code",
      "metadata": {
        "colab": {
          "base_uri": "https://localhost:8080/",
          "height": 390
        },
        "id": "XoOQ9OeeEtSF",
        "outputId": "5fd7deb1-2dd4-4cda-a23a-d1215d6c1413"
      },
      "source": [
        "plt.figure(figsize=(15,6))\n",
        "\n",
        "for i in range(model_data['country_N']): #for each of the country\n",
        "    plt.plot(stats.uniform.rvs(loc=i, scale=0.4, size = 4000),\n",
        "             samples['country_multiplier'][:,i], ',', alpha=2)\n",
        "\n",
        "\n",
        "plt.title('Samples of posterior distributions of base prices')\n",
        "plt.xticks(range(1,7), (country_names))\n",
        "plt.ylim(0, 4)\n",
        "plt.show()"
      ],
      "execution_count": 23,
      "outputs": [
        {
          "output_type": "display_data",
          "data": {
            "image/png": "[encoded data removed]",
            "text/plain": [
              "<Figure size 1080x432 with 1 Axes>"
            ]
          },
          "metadata": {
            "tags": []
          }
        }
      ]
    },
    {
      "cell_type": "markdown",
      "metadata": {
        "id": "xJPMiQg2IHP8"
      },
      "source": [
        "##Distribution of Store Type Multiplier\n",
        "\n",
        "The budget stores have the lowest values. They are slightly below 1, reducing the price of the products. The mid range and the expensive stores have higher values, with mid range more concentrated in the lower part of the distribution. They are very similar. This might be because of the students' perception of the stores and where in one location, the store is considered mid-range, but in the other - as luxury, but they will have similar prices or their correlation"
      ]
    },
    {
      "cell_type": "code",
      "metadata": {
        "colab": {
          "base_uri": "https://localhost:8080/",
          "height": 390
        },
        "id": "ygPERqkFFbQe",
        "outputId": "3a81f9d2-a9a9-41f2-8e72-90eb10254971"
      },
      "source": [
        "plt.figure(figsize=(15,6))\n",
        "\n",
        "for i in range(model_data['store_N']): #for each of the store type\n",
        "    plt.plot(stats.uniform.rvs(loc=i, scale=0.4, size = 4000),\n",
        "             samples['country_multiplier'][:,i], ',', alpha=2)\n",
        "\n",
        "\n",
        "plt.title('Samples of posterior distributions of store types')\n",
        "plt.xticks(range(1,4), (store_names))\n",
        "plt.ylim(0, 10)\n",
        "plt.show()"
      ],
      "execution_count": 24,
      "outputs": [
        {
          "output_type": "display_data",
          "data": {
            "image/png": "[encoded data removed]",
            "text/plain": [
              "<Figure size 1080x432 with 1 Axes>"
            ]
          },
          "metadata": {
            "tags": []
          }
        }
      ]
    },
    {
      "cell_type": "markdown",
      "metadata": {
        "id": "YpM7a2_6kGk5"
      },
      "source": [
        "#Rental Prices and Country Multipliers' Correlation\n",
        "\n",
        "In this section, I will extract the Correlation Coefficient (R-squared) for the rental prices and the country multiplier. \n",
        "\n",
        "First, I cleaned the rental data to contain only numbers. I converted all the values that were in dollars to current currency and looked through the numbers for sanity check. \n",
        "\n",
        "\n",
        "Then, I saved the data in the correct format. \n",
        "\n",
        "Last, I calculated $R^2$ and outputted the correlation plot. "
      ]
    },
    {
      "cell_type": "code",
      "metadata": {
        "id": "LWtUHwjuIROO"
      },
      "source": [
        "### CLEANING THE RENTAL DATA\n",
        "\n",
        "#country multipliers data\n",
        "countries_multipliers = samples['country_multiplier'].mean(axis=0)\n",
        "\n",
        "\n",
        "\n",
        "#creating df containing country and the rental price\n",
        "rental_df_data = [final_data.Rental_Price, final_data.Country, data_normalized.Currency_Converter]\n",
        "rental_df_headers = ['Rental_prices', 'Country', \"Currency_Converter\"]\n",
        "rental_price = pd.concat(rental_df_data, axis =1, keys = rental_df_headers)\n",
        "\n",
        "\n",
        "#manually cleaning the rental prices\n",
        "\n",
        "rental_price.loc[8,'Rental_prices'] = 2595\n",
        "rental_price.loc[9,'Rental_prices'] = 1695\n",
        "rental_price.loc[10,'Rental_prices'] = 28000\n",
        "rental_price.loc[11,'Rental_prices'] = 42000\n",
        "rental_price.loc[44,'Rental_prices'] = 4000\n",
        "rental_price.loc[45,'Rental_prices'] = 3000\n",
        "rental_price.loc[21,'Rental_prices'] = 1934\n",
        "rental_price.loc[38,'Rental_prices'] = 2595\t\n",
        "rental_price.loc[39,'Rental_prices'] = 2595\t\n",
        "\n",
        "#converting the prices to dollars\n",
        "\n",
        "rental_price.Rental_prices= pd.to_numeric(rental_price.Rental_prices, downcast=\"float\")\n",
        "rental_price.Rental_prices *=rental_price.Currency_Converter\n",
        "\n",
        "\n",
        "\n",
        "\n",
        "  \n"
      ],
      "execution_count": 25,
      "outputs": []
    },
    {
      "cell_type": "code",
      "metadata": {
        "id": "zmCnwboEmq4f"
      },
      "source": [
        "## RENTAL DATA IN THE RIGHT FORMAT - MEANS PER COUNTRY IN DOLLARS\n",
        "\n",
        "USA = []\n",
        "Kenya = [455]\n",
        "Brazil = []\n",
        "Bangladesh = [48, 36]\n",
        "Ukraine = []\n",
        "Sweden = [826.44, 826.44\t]\n",
        "\n",
        "\n",
        "\n",
        "#get the prices based on a country\n",
        "for i in range (50):\n",
        "  #sort out US rental prices\n",
        "  if rental_price.loc[i,'Country'] == 'USA':\n",
        "    USA.append(rental_price.loc[i,'Rental_prices'])\t\n",
        "\n",
        "  elif rental_price.loc[i,'Country'] == 'Brazil':\n",
        "    Brazil.append(rental_price.loc[i,'Rental_prices'])\t\n",
        "\n",
        "\n",
        "  elif rental_price.loc[i,'Country'] == 'Ukraine':\n",
        "    Ukraine.append(rental_price.loc[i,'Rental_prices'])\t\n",
        "\n",
        "\n",
        "\n",
        "\n",
        "#getting the rental prices means for each country\n",
        "USA_mean = np.mean(USA)\n",
        "Kenya_mean = 455\n",
        "Brazil_mean = np.mean(Brazil)\n",
        "Bangladesh_mean = np.mean(Bangladesh)\n",
        "Sweden_mean = 826.44\n",
        "Ukraine_mean = np.mean(Ukraine)\n",
        "\n",
        "\n",
        "#putting the mean values into 1 list\n",
        "means = [USA_mean, Sweden_mean, Ukraine_mean, Kenya_mean, Brazil_mean, Bangladesh_mean]\n",
        "\n",
        "\n",
        "\n"
      ],
      "execution_count": 26,
      "outputs": []
    },
    {
      "cell_type": "code",
      "metadata": {
        "colab": {
          "base_uri": "https://localhost:8080/",
          "height": 547
        },
        "id": "kAUBpo2qmThl",
        "outputId": "d8fb8e26-30b9-4c28-bdb1-7900bc73c197"
      },
      "source": [
        "##CALCULATING THE CORRELATION\n",
        "\n",
        "correlation_matrix = np.corrcoef(means, countries_multipliers)\n",
        "correlation_xy = correlation_matrix[0,1]\n",
        "r_squared = correlation_xy**2 \n",
        "\n",
        "print(r_squared)\n",
        "\n",
        "\n",
        "# regression plot using seaborn\n",
        "fig = plt.figure(figsize=(15, 8))\n",
        "sns.regplot(x=means, y=countries_multipliers, color='blue', marker='+')\n",
        "\n",
        "# Legend, title and labels.\n",
        "plt.title('Relationship between Rental Prices and Country Multipliers', size=24)\n",
        "plt.xlabel('Mean Values for the Rental Prices in Different countries', size=18)\n",
        "plt.ylabel('Country Multipliers', size=18);\n"
      ],
      "execution_count": 27,
      "outputs": [
        {
          "output_type": "stream",
          "text": [
            "0.4911380003665486\n"
          ],
          "name": "stdout"
        },
        {
          "output_type": "display_data",
          "data": {
            "image/png": "[encoded data removed]",
            "text/plain": [
              "<Figure size 1080x576 with 1 Axes>"
            ]
          },
          "metadata": {
            "tags": []
          }
        }
      ]
    },
    {
      "cell_type": "code",
      "metadata": {
        "id": "LSfr8Bu-mVrl"
      },
      "source": [
        ""
      ],
      "execution_count": 27,
      "outputs": []
    }
  ]
}